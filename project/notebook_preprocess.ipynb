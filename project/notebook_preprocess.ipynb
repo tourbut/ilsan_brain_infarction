{
 "cells": [
  {
   "cell_type": "code",
   "execution_count": 1,
   "metadata": {},
   "outputs": [],
   "source": [
    "import pandas as pd\n",
    "meta_dir = '../metadata/20240702_전체데이터.xlsx'\n",
    "\n",
    "\"\"\"\n",
    "- 환자번호 -> subjectkey\n",
    "- 성별 -> sex \n",
    "- 검사연령-> age \n",
    "- 판독소견 -> reports\n",
    "- 판독결과-> label\n",
    "\"\"\"\n",
    "\n",
    "origin_data = pd.read_excel(meta_dir)"
   ]
  },
  {
   "cell_type": "code",
   "execution_count": 2,
   "metadata": {},
   "outputs": [],
   "source": [
    "origin_data['Lesion'] = origin_data['Lesion'].astype(str)\n",
    "origin_data['Injury_time'] = origin_data['Injury_time'].astype(str)\n",
    "origin_data['Character'] = origin_data['Character'].astype(str)\n",
    "origin_data['label'] = '{\\n'+'Lesion : ' + origin_data['Lesion'] + '\\n' + 'Injury time : ' + origin_data['Injury_time'] + '\\n' + 'Character: ' + origin_data['Character']+'\\n}'"
   ]
  },
  {
   "cell_type": "code",
   "execution_count": 3,
   "metadata": {},
   "outputs": [],
   "source": [
    "metadata = pd.DataFrame(columns=['subjectkey','sex','age','reports','label','BET_output_path'])"
   ]
  },
  {
   "cell_type": "code",
   "execution_count": 7,
   "metadata": {},
   "outputs": [],
   "source": [
    "metadata['subjectkey'] = origin_data['환자번호']\n",
    "metadata['sex'] = origin_data['성별']\n",
    "metadata['age'] = origin_data['검사연령']\n",
    "metadata['reports'] = origin_data['판독소견']\n",
    "metadata['label'] = origin_data['label']\n",
    "metadata['BET_output_path'] = origin_data['BET_output_path']"
   ]
  },
  {
   "cell_type": "code",
   "execution_count": 8,
   "metadata": {},
   "outputs": [],
   "source": [
    "metadata.to_excel('../metadata/20240702_전체데이터(가공).xlsx',index=False)"
   ]
  }
 ],
 "metadata": {
  "kernelspec": {
   "display_name": "ilsan",
   "language": "python",
   "name": "python3"
  },
  "language_info": {
   "codemirror_mode": {
    "name": "ipython",
    "version": 3
   },
   "file_extension": ".py",
   "mimetype": "text/x-python",
   "name": "python",
   "nbconvert_exporter": "python",
   "pygments_lexer": "ipython3",
   "version": "3.9.12"
  }
 },
 "nbformat": 4,
 "nbformat_minor": 2
}
